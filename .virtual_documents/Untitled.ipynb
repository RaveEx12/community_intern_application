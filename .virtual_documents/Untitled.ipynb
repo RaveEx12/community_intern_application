











import numpy as np
import pandas as pd
import matplotlib.pyplot as plt
import seaborn as sns





# Setting the file path

file_path = 'Reward_Program_Assignment_Input_v6 - TA.xlsx'

# Loading the data 
df = pd.read_excel(file_path, sheet_name='Raw_Reward_Data')


# Initial EDA

df.head()











# Check for duplicates based on all columns
num_duplicates = df.duplicated().sum()

# Print the total Number of Duplicates in the data
print(num_duplicates)





# Remove duplicates
df_cleaned = df.drop_duplicates()

# Save the cleaned dataset to a new Excel file
cleaned_file_path = 'cleaned_graduate_data.xlsx'
df_cleaned.to_excel(cleaned_file_path, index=False)

# Summary of cleaning process
summary = f"Total duplicates found and removed: {num_duplicates}\n"
summary += f"Remaining records after cleaning: {df_cleaned.shape[0]}"
print(summary)











df = pd.read_excel("cleaned_graduate_data.xlsx")


df.head()





# Descriptive Statistics

df.describe()














# Distribution of graduates by country
graduates_by_country = df['Country'].value_counts()

# Print the distribution
print("Distribution of Graduates by Country:")
graduates_by_country


# Plot the distribution
plt.figure(figsize=(8, 6))
graduates_by_country.plot(kind='barh', color='skyblue')
plt.title('Distribution of Graduates by Country')
plt.xlabel('Number of Graduates')
plt.ylabel('')
plt.tight_layout()
plt.show()








# Popular rewards
popular_rewards = df['Reward_Received'].value_counts()
print("Most Popular Rewards:")
popular_rewards


# Plot popular rewards
plt.figure(figsize=(8, 6))
popular_rewards.head(5).plot(kind='barh', color='lightgreen')
plt.title('Top 5 Popular Rewards')
plt.xlabel('Number of Redemptions')
plt.ylabel('')
plt.xticks()
plt.tight_layout()
plt.show()





# Popular brands
popular_brands = df['Brand'].value_counts()
print("Most Popular Brands:")
popular_brands


# Plot popular brands
plt.figure(figsize=(8, 6))
popular_brands.head(5).plot(kind='barh', color='orange')
plt.title('Top 5 Popular Brands')
plt.xlabel('Number of Redemptions')
plt.ylabel('')
plt.xticks()
plt.tight_layout()
plt.show()








# Descriptive statistics for satisfaction rating
satisfaction_stats = df['Satisfaction_Rating_on_Reward'].describe()
print("Satisfaction Rating Statistics:")
satisfaction_stats


# Plot satisfaction rating distribution
plt.figure(figsize=(8, 6))
df['Satisfaction_Rating_on_Reward'].plot(kind='hist', bins=10, color='purple', edgecolor='black',)
plt.title('Distribution of Satisfaction Ratings')
plt.xlabel('Satisfaction Rating')
plt.ylabel('Frequency')
plt.tight_layout()
plt.show()











# Descriptive statistics for redemption frequency
redemptions_stats = df['Redemptions_by_User'].describe()
print("Redemptions by User Statistics:")
redemptions_stats


# Plot redemption frequency
plt.figure(figsize=(8, 6))
df['Redemptions_by_User'].plot(kind='hist', bins=10, color='red', edgecolor='black')
plt.title('Distribution of Redemptions by User')
plt.xlabel('Number of Redemptions')
plt.ylabel('Frequency')
plt.tight_layout()
plt.show()











# Correlation between cost per redemption and satisfaction rating
cost_satisfaction_corr = df[['Cost_Per_Redemption_in_Dollars', 'Satisfaction_Rating_on_Reward']].corr()
cost_satisfaction_corr


# Scatter plot of Cost vs Satisfaction Rating
plt.figure(figsize=(8, 6))
plt.scatter(df['Cost_Per_Redemption_in_Dollars'], df['Satisfaction_Rating_on_Reward'], color='blue', alpha=0.5)
plt.title('Cost vs Satisfaction Rating')
plt.xlabel('Cost per Redemption (Dollars)')
plt.ylabel('Satisfaction Rating')
plt.tight_layout()
plt.show()



























