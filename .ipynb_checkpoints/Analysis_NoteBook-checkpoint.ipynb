{
 "cells": [
  {
   "cell_type": "markdown",
   "id": "0e7de4e6-e3da-405b-8bf5-f663fdb525ed",
   "metadata": {},
   "source": [
    "# Analysis of Graduate Data"
   ]
  },
  {
   "cell_type": "markdown",
   "id": "444b5f23-5fed-4be0-b78d-207cc2ad1ba9",
   "metadata": {},
   "source": [
    "---"
   ]
  },
  {
   "cell_type": "code",
   "execution_count": null,
   "id": "84299548-d445-4834-9bae-52f8e2635140",
   "metadata": {},
   "outputs": [],
   "source": []
  },
  {
   "cell_type": "markdown",
   "id": "a7111a2c-ab0f-478c-b118-dc6494fa5d84",
   "metadata": {},
   "source": [
    "#### Loading the Dependables"
   ]
  },
  {
   "cell_type": "code",
   "execution_count": 2,
   "id": "1543b758-4a8f-4bd0-856a-e81128ebdf31",
   "metadata": {},
   "outputs": [],
   "source": [
    "import numpy as np\n",
    "import pandas as pd\n",
    "import matplotlib.pyplot as plt\n",
    "import seaborn as sns"
   ]
  },
  {
   "cell_type": "markdown",
   "id": "0164e7bb-0481-46b1-ba62-a114adcd7f2e",
   "metadata": {},
   "source": [
    "#### Loading the data set"
   ]
  },
  {
   "cell_type": "code",
   "execution_count": 4,
   "id": "491bf9ee-bdc7-4ea6-acc2-635fb84971ca",
   "metadata": {},
   "outputs": [],
   "source": [
    "# Setting the file path\n",
    "\n",
    "file_path = 'Reward_Program_Assignment_Input_v6 - TA.xlsx'\n",
    "\n",
    "# Loading the data \n",
    "df = pd.read_excel(file_path, sheet_name='Raw_Reward_Data')"
   ]
  },
  {
   "cell_type": "code",
   "execution_count": 5,
   "id": "500eee26-9fae-4791-94af-397ca0f0c275",
   "metadata": {},
   "outputs": [
    {
     "data": {
      "text/html": [
       "<div>\n",
       "<style scoped>\n",
       "    .dataframe tbody tr th:only-of-type {\n",
       "        vertical-align: middle;\n",
       "    }\n",
       "\n",
       "    .dataframe tbody tr th {\n",
       "        vertical-align: top;\n",
       "    }\n",
       "\n",
       "    .dataframe thead th {\n",
       "        text-align: right;\n",
       "    }\n",
       "</style>\n",
       "<table border=\"1\" class=\"dataframe\">\n",
       "  <thead>\n",
       "    <tr style=\"text-align: right;\">\n",
       "      <th></th>\n",
       "      <th>Member_Name_Surname_Per_Redemption</th>\n",
       "      <th>Reward_Received</th>\n",
       "      <th>Brand</th>\n",
       "      <th>Reward_Value_Amount_in_Dollars</th>\n",
       "      <th>Time_to_Reward_Received_in_Seconds</th>\n",
       "      <th>Redemptions_by_User</th>\n",
       "      <th>Point_Value_per_Redemption</th>\n",
       "      <th>Satisfaction_Rating_on_Reward</th>\n",
       "      <th>Cost_Per_Redemption_in_Dollars</th>\n",
       "      <th>Country</th>\n",
       "    </tr>\n",
       "  </thead>\n",
       "  <tbody>\n",
       "    <tr>\n",
       "      <th>0</th>\n",
       "      <td>Jane Smith</td>\n",
       "      <td>Amazon Gift Card</td>\n",
       "      <td>Uber</td>\n",
       "      <td>50</td>\n",
       "      <td>43</td>\n",
       "      <td>8</td>\n",
       "      <td>500</td>\n",
       "      <td>3.906216</td>\n",
       "      <td>66</td>\n",
       "      <td>Kenya</td>\n",
       "    </tr>\n",
       "    <tr>\n",
       "      <th>1</th>\n",
       "      <td>David Thompson</td>\n",
       "      <td>Coursera Subscription</td>\n",
       "      <td>Amazon</td>\n",
       "      <td>10</td>\n",
       "      <td>9</td>\n",
       "      <td>2</td>\n",
       "      <td>250</td>\n",
       "      <td>3.797088</td>\n",
       "      <td>67</td>\n",
       "      <td>Kenya</td>\n",
       "    </tr>\n",
       "    <tr>\n",
       "      <th>2</th>\n",
       "      <td>James Wilson</td>\n",
       "      <td>Netflix Gift Card</td>\n",
       "      <td>Coursera</td>\n",
       "      <td>50</td>\n",
       "      <td>5</td>\n",
       "      <td>9</td>\n",
       "      <td>750</td>\n",
       "      <td>4.372271</td>\n",
       "      <td>72</td>\n",
       "      <td>Kenya</td>\n",
       "    </tr>\n",
       "    <tr>\n",
       "      <th>3</th>\n",
       "      <td>David Thompson</td>\n",
       "      <td>Spotify Subscription</td>\n",
       "      <td>Amazon</td>\n",
       "      <td>50</td>\n",
       "      <td>23</td>\n",
       "      <td>5</td>\n",
       "      <td>750</td>\n",
       "      <td>4.209811</td>\n",
       "      <td>24</td>\n",
       "      <td>Kenya</td>\n",
       "    </tr>\n",
       "    <tr>\n",
       "      <th>4</th>\n",
       "      <td>Alice Johnson</td>\n",
       "      <td>Spotify Gift Card</td>\n",
       "      <td>Coursera</td>\n",
       "      <td>10</td>\n",
       "      <td>41</td>\n",
       "      <td>7</td>\n",
       "      <td>1000</td>\n",
       "      <td>3.767192</td>\n",
       "      <td>41</td>\n",
       "      <td>Kenya</td>\n",
       "    </tr>\n",
       "  </tbody>\n",
       "</table>\n",
       "</div>"
      ],
      "text/plain": [
       "  Member_Name_Surname_Per_Redemption        Reward_Received     Brand  \\\n",
       "0                         Jane Smith       Amazon Gift Card      Uber   \n",
       "1                     David Thompson  Coursera Subscription    Amazon   \n",
       "2                       James Wilson      Netflix Gift Card  Coursera   \n",
       "3                     David Thompson   Spotify Subscription    Amazon   \n",
       "4                      Alice Johnson      Spotify Gift Card  Coursera   \n",
       "\n",
       "   Reward_Value_Amount_in_Dollars  Time_to_Reward_Received_in_Seconds  \\\n",
       "0                              50                                  43   \n",
       "1                              10                                   9   \n",
       "2                              50                                   5   \n",
       "3                              50                                  23   \n",
       "4                              10                                  41   \n",
       "\n",
       "   Redemptions_by_User  Point_Value_per_Redemption  \\\n",
       "0                    8                         500   \n",
       "1                    2                         250   \n",
       "2                    9                         750   \n",
       "3                    5                         750   \n",
       "4                    7                        1000   \n",
       "\n",
       "   Satisfaction_Rating_on_Reward  Cost_Per_Redemption_in_Dollars Country  \n",
       "0                       3.906216                              66   Kenya  \n",
       "1                       3.797088                              67   Kenya  \n",
       "2                       4.372271                              72   Kenya  \n",
       "3                       4.209811                              24   Kenya  \n",
       "4                       3.767192                              41   Kenya  "
      ]
     },
     "execution_count": 5,
     "metadata": {},
     "output_type": "execute_result"
    }
   ],
   "source": [
    "# Initial EDA\n",
    "\n",
    "df.head()"
   ]
  },
  {
   "cell_type": "code",
   "execution_count": null,
   "id": "9f6f25ed-1a78-419f-8aca-5e469c386c53",
   "metadata": {},
   "outputs": [],
   "source": []
  },
  {
   "cell_type": "markdown",
   "id": "02da3296-c5ae-4968-bd9c-43a36a5daab8",
   "metadata": {},
   "source": [
    "# Task 1"
   ]
  },
  {
   "cell_type": "code",
   "execution_count": 9,
   "id": "c6e097ee-0d92-476f-980f-0c75259205e9",
   "metadata": {},
   "outputs": [
    {
     "name": "stdout",
     "output_type": "stream",
     "text": [
      "0\n"
     ]
    }
   ],
   "source": [
    "# Check for duplicates based on all columns\n",
    "num_duplicates = df.duplicated().sum()\n",
    "\n",
    "# Print the total Number of Duplicates in the data\n",
    "print(num_duplicates)"
   ]
  },
  {
   "cell_type": "markdown",
   "id": "52ed5829-81d3-4dfa-be1f-311ba51c02a6",
   "metadata": {},
   "source": [
    "**Observation:** There are no duplicates in the data set or it is safe to say that the data set is already cleaned before given for this assignment\n",
    "\n"
   ]
  },
  {
   "cell_type": "code",
   "execution_count": 10,
   "id": "03c10b0e-770d-4af3-8876-a36bd280c7a0",
   "metadata": {},
   "outputs": [
    {
     "name": "stdout",
     "output_type": "stream",
     "text": [
      "Total duplicates found and removed: 0\n",
      "Remaining records after cleaning: 100\n"
     ]
    }
   ],
   "source": [
    "# Remove duplicates\n",
    "df_cleaned = df.drop_duplicates()\n",
    "\n",
    "# Save the cleaned dataset to a new Excel file\n",
    "cleaned_file_path = 'cleaned_graduate_data.xlsx'\n",
    "df_cleaned.to_excel(cleaned_file_path, index=False)\n",
    "\n",
    "# Summary of cleaning process\n",
    "summary = f\"Total duplicates found and removed: {num_duplicates}\\n\"\n",
    "summary += f\"Remaining records after cleaning: {df_cleaned.shape[0]}\"\n",
    "print(summary)"
   ]
  },
  {
   "cell_type": "code",
   "execution_count": null,
   "id": "55dd2da9-f173-418b-bd12-a73129bd6610",
   "metadata": {},
   "outputs": [],
   "source": []
  },
  {
   "cell_type": "markdown",
   "id": "455fc918-5a2e-4d73-b79c-79113853aec8",
   "metadata": {},
   "source": [
    "# Task 3"
   ]
  },
  {
   "cell_type": "code",
   "execution_count": 12,
   "id": "5a69f87f-2b5f-4127-aff8-c15417abcde4",
   "metadata": {},
   "outputs": [],
   "source": [
    "df = pd.read_excel(\"cleaned_graduate_data.xlsx\")"
   ]
  },
  {
   "cell_type": "code",
   "execution_count": 14,
   "id": "55a4ae0a-32cc-48c3-8ae6-734b274ab8b5",
   "metadata": {},
   "outputs": [
    {
     "data": {
      "text/html": [
       "<div>\n",
       "<style scoped>\n",
       "    .dataframe tbody tr th:only-of-type {\n",
       "        vertical-align: middle;\n",
       "    }\n",
       "\n",
       "    .dataframe tbody tr th {\n",
       "        vertical-align: top;\n",
       "    }\n",
       "\n",
       "    .dataframe thead th {\n",
       "        text-align: right;\n",
       "    }\n",
       "</style>\n",
       "<table border=\"1\" class=\"dataframe\">\n",
       "  <thead>\n",
       "    <tr style=\"text-align: right;\">\n",
       "      <th></th>\n",
       "      <th>Member_Name_Surname_Per_Redemption</th>\n",
       "      <th>Reward_Received</th>\n",
       "      <th>Brand</th>\n",
       "      <th>Reward_Value_Amount_in_Dollars</th>\n",
       "      <th>Time_to_Reward_Received_in_Seconds</th>\n",
       "      <th>Redemptions_by_User</th>\n",
       "      <th>Point_Value_per_Redemption</th>\n",
       "      <th>Satisfaction_Rating_on_Reward</th>\n",
       "      <th>Cost_Per_Redemption_in_Dollars</th>\n",
       "      <th>Country</th>\n",
       "    </tr>\n",
       "  </thead>\n",
       "  <tbody>\n",
       "    <tr>\n",
       "      <th>0</th>\n",
       "      <td>Jane Smith</td>\n",
       "      <td>Amazon Gift Card</td>\n",
       "      <td>Uber</td>\n",
       "      <td>50</td>\n",
       "      <td>43</td>\n",
       "      <td>8</td>\n",
       "      <td>500</td>\n",
       "      <td>3.906216</td>\n",
       "      <td>66</td>\n",
       "      <td>Kenya</td>\n",
       "    </tr>\n",
       "    <tr>\n",
       "      <th>1</th>\n",
       "      <td>David Thompson</td>\n",
       "      <td>Coursera Subscription</td>\n",
       "      <td>Amazon</td>\n",
       "      <td>10</td>\n",
       "      <td>9</td>\n",
       "      <td>2</td>\n",
       "      <td>250</td>\n",
       "      <td>3.797088</td>\n",
       "      <td>67</td>\n",
       "      <td>Kenya</td>\n",
       "    </tr>\n",
       "    <tr>\n",
       "      <th>2</th>\n",
       "      <td>James Wilson</td>\n",
       "      <td>Netflix Gift Card</td>\n",
       "      <td>Coursera</td>\n",
       "      <td>50</td>\n",
       "      <td>5</td>\n",
       "      <td>9</td>\n",
       "      <td>750</td>\n",
       "      <td>4.372271</td>\n",
       "      <td>72</td>\n",
       "      <td>Kenya</td>\n",
       "    </tr>\n",
       "    <tr>\n",
       "      <th>3</th>\n",
       "      <td>David Thompson</td>\n",
       "      <td>Spotify Subscription</td>\n",
       "      <td>Amazon</td>\n",
       "      <td>50</td>\n",
       "      <td>23</td>\n",
       "      <td>5</td>\n",
       "      <td>750</td>\n",
       "      <td>4.209811</td>\n",
       "      <td>24</td>\n",
       "      <td>Kenya</td>\n",
       "    </tr>\n",
       "    <tr>\n",
       "      <th>4</th>\n",
       "      <td>Alice Johnson</td>\n",
       "      <td>Spotify Gift Card</td>\n",
       "      <td>Coursera</td>\n",
       "      <td>10</td>\n",
       "      <td>41</td>\n",
       "      <td>7</td>\n",
       "      <td>1000</td>\n",
       "      <td>3.767192</td>\n",
       "      <td>41</td>\n",
       "      <td>Kenya</td>\n",
       "    </tr>\n",
       "  </tbody>\n",
       "</table>\n",
       "</div>"
      ],
      "text/plain": [
       "  Member_Name_Surname_Per_Redemption        Reward_Received     Brand  \\\n",
       "0                         Jane Smith       Amazon Gift Card      Uber   \n",
       "1                     David Thompson  Coursera Subscription    Amazon   \n",
       "2                       James Wilson      Netflix Gift Card  Coursera   \n",
       "3                     David Thompson   Spotify Subscription    Amazon   \n",
       "4                      Alice Johnson      Spotify Gift Card  Coursera   \n",
       "\n",
       "   Reward_Value_Amount_in_Dollars  Time_to_Reward_Received_in_Seconds  \\\n",
       "0                              50                                  43   \n",
       "1                              10                                   9   \n",
       "2                              50                                   5   \n",
       "3                              50                                  23   \n",
       "4                              10                                  41   \n",
       "\n",
       "   Redemptions_by_User  Point_Value_per_Redemption  \\\n",
       "0                    8                         500   \n",
       "1                    2                         250   \n",
       "2                    9                         750   \n",
       "3                    5                         750   \n",
       "4                    7                        1000   \n",
       "\n",
       "   Satisfaction_Rating_on_Reward  Cost_Per_Redemption_in_Dollars Country  \n",
       "0                       3.906216                              66   Kenya  \n",
       "1                       3.797088                              67   Kenya  \n",
       "2                       4.372271                              72   Kenya  \n",
       "3                       4.209811                              24   Kenya  \n",
       "4                       3.767192                              41   Kenya  "
      ]
     },
     "execution_count": 14,
     "metadata": {},
     "output_type": "execute_result"
    }
   ],
   "source": [
    "df.head()"
   ]
  },
  {
   "cell_type": "code",
   "execution_count": null,
   "id": "b4faf1cb-ab72-4ce8-ba26-7e3891f4fc60",
   "metadata": {},
   "outputs": [],
   "source": []
  },
  {
   "cell_type": "markdown",
   "id": "7a38b776-13f2-45bf-875a-9707d033c066",
   "metadata": {},
   "source": [
    "## Analysis:\r\n",
    "\r\n",
    "#### 1. **Distribution of Graduates by Country**:\r\n",
    "This will help us understand where most of the graduates are located, which can inform region-based engagement strategies.\r\n",
    "\r\n",
    "#### 2. **Popular Rewards and Brands**:\r\n",
    "We'll analyze which rewards and brands are the most frequently redeemed, indicating potential preferences.\r\n",
    "\r\n",
    "#### 3. **Satisfaction Rating Analysis**:\r\n",
    "We'll examine satisfaction ratings to determine how happy graduates are with the rewards they receive.\r\n",
    "\r\n",
    "#### 4. **Redemption Frequency**:\r\n",
    "We'll look into how frequently individuals are redeeming rewards, and the relationship between redemptions and satisfaction.\r\n",
    "\r\n",
    "#### 5. **Cost vs. Satisfaction**:\r\n",
    "We'll explore whether higher-cost redemptions me know how you'd like to proceed!"
   ]
  },
  {
   "cell_type": "code",
   "execution_count": null,
   "id": "243e1a0b-2762-4fcb-be95-9148585dd9fc",
   "metadata": {},
   "outputs": [],
   "source": []
  },
  {
   "cell_type": "markdown",
   "id": "56aef395-f0dd-4e73-8eff-c15715ae6bc8",
   "metadata": {},
   "source": [
    "**1. Distribution of Graduates by Country**"
   ]
  },
  {
   "cell_type": "code",
   "execution_count": 48,
   "id": "339a879a-6438-4039-8d53-0225f20e9e0d",
   "metadata": {},
   "outputs": [
    {
     "name": "stdout",
     "output_type": "stream",
     "text": [
      "Distribution of Graduates by Country:\n"
     ]
    },
    {
     "data": {
      "text/plain": [
       "Country\n",
       "Kenya           62\n",
       "Rwanda          22\n",
       "Nigeria         10\n",
       "South Africa     6\n",
       "Name: count, dtype: int64"
      ]
     },
     "execution_count": 48,
     "metadata": {},
     "output_type": "execute_result"
    }
   ],
   "source": [
    "# Distribution of graduates by country\n",
    "graduates_by_country = df['Country'].value_counts()\n",
    "\n",
    "# Print the distribution\n",
    "print(\"Distribution of Graduates by Country:\")\n",
    "graduates_by_country"
   ]
  },
  {
   "cell_type": "code",
   "execution_count": 49,
   "id": "f3f6ad01-1422-4242-b9a2-ca5e7d90805b",
   "metadata": {},
   "outputs": [
    {
     "data": {
      "image/png": "[encoded data removed]",
      "text/plain": [
       "<Figure size 800x600 with 1 Axes>"
      ]
     },
     "metadata": {},
     "output_type": "display_data"
    }
   ],
   "source": [
    "# Plot the distribution\n",
    "plt.figure(figsize=(8, 6))\n",
    "graduates_by_country.plot(kind='barh', color='skyblue')\n",
    "plt.title('Distribution of Graduates by Country')\n",
    "plt.xlabel('Number of Graduates')\n",
    "plt.ylabel('')\n",
    "plt.tight_layout()\n",
    "plt.show()"
   ]
  },
  {
   "cell_type": "code",
   "execution_count": null,
   "id": "0c2792ae-814d-4cbf-b37b-3b78b91e2bfd",
   "metadata": {},
   "outputs": [],
   "source": []
  },
  {
   "cell_type": "markdown",
   "id": "c642e48a-6785-4a31-9c20-99b14c9afc05",
   "metadata": {},
   "source": [
    "**2. Popular Rewards and Brands**"
   ]
  },
  {
   "cell_type": "code",
   "execution_count": 52,
   "id": "caff1820-b61d-4eaa-907f-dbb19a7d563d",
   "metadata": {},
   "outputs": [
    {
     "name": "stdout",
     "output_type": "stream",
     "text": [
      "Most Popular Rewards:\n"
     ]
    },
    {
     "data": {
      "text/plain": [
       "Reward_Received\n",
       "Amazon Gift Card         15\n",
       "Coursera Gift Card       13\n",
       "Spotify Subscription     12\n",
       "Uber Gift Card           11\n",
       "Uber Subscription        10\n",
       "Spotify Gift Card         9\n",
       "Amazon Subscription       9\n",
       "Netflix Subscription      8\n",
       "Coursera Subscription     7\n",
       "Netflix Gift Card         6\n",
       "Name: count, dtype: int64"
      ]
     },
     "execution_count": 52,
     "metadata": {},
     "output_type": "execute_result"
    }
   ],
   "source": [
    "# Popular rewards\n",
    "popular_rewards = df['Reward_Received'].value_counts()\n",
    "print(\"Most Popular Rewards:\")\n",
    "popular_rewards"
   ]
  },
  {
   "cell_type": "code",
   "execution_count": 51,
   "id": "173c3d8d-817a-4bcf-a101-b2e457494e58",
   "metadata": {},
   "outputs": [
    {
     "data": {
      "image/png": "[encoded data removed]",
      "text/plain": [
       "<Figure size 800x600 with 1 Axes>"
      ]
     },
     "metadata": {},
     "output_type": "display_data"
    }
   ],
   "source": [
    "# Plot popular rewards\n",
    "plt.figure(figsize=(8, 6))\n",
    "popular_rewards.head(5).plot(kind='barh', color='lightgreen')\n",
    "plt.title('Top 5 Popular Rewards')\n",
    "plt.xlabel('Number of Redemptions')\n",
    "plt.ylabel('')\n",
    "plt.xticks()\n",
    "plt.tight_layout()\n",
    "plt.show()"
   ]
  },
  {
   "cell_type": "code",
   "execution_count": null,
   "id": "c894b56a-2636-4306-b64f-40fe2e732148",
   "metadata": {},
   "outputs": [],
   "source": []
  },
  {
   "cell_type": "code",
   "execution_count": 53,
   "id": "4028e873-08ba-487a-bd3f-4c912db381f0",
   "metadata": {},
   "outputs": [
    {
     "name": "stdout",
     "output_type": "stream",
     "text": [
      "Most Popular Brands:\n"
     ]
    },
    {
     "data": {
      "text/plain": [
       "Brand\n",
       "Coursera    24\n",
       "Netflix     22\n",
       "Amazon      20\n",
       "Spotify     20\n",
       "Uber        14\n",
       "Name: count, dtype: int64"
      ]
     },
     "execution_count": 53,
     "metadata": {},
     "output_type": "execute_result"
    }
   ],
   "source": [
    "# Popular brands\n",
    "popular_brands = df['Brand'].value_counts()\n",
    "print(\"Most Popular Brands:\")\n",
    "popular_brands"
   ]
  },
  {
   "cell_type": "code",
   "execution_count": 54,
   "id": "ce70bf02-253f-461b-b41b-77a23673e0ba",
   "metadata": {},
   "outputs": [
    {
     "data": {
      "image/png": "[encoded data removed]",
      "text/plain": [
       "<Figure size 800x600 with 1 Axes>"
      ]
     },
     "metadata": {},
     "output_type": "display_data"
    }
   ],
   "source": [
    "# Plot popular brands\n",
    "plt.figure(figsize=(8, 6))\n",
    "popular_brands.head(5).plot(kind='barh', color='orange')\n",
    "plt.title('Top 5 Popular Brands')\n",
    "plt.xlabel('Number of Redemptions')\n",
    "plt.ylabel('')\n",
    "plt.xticks()\n",
    "plt.tight_layout()\n",
    "plt.show()"
   ]
  },
  {
   "cell_type": "code",
   "execution_count": null,
   "id": "5fb1594f-0d11-4035-9810-ab6eeb44928f",
   "metadata": {},
   "outputs": [],
   "source": []
  },
  {
   "cell_type": "markdown",
   "id": "827e726c-adf1-4e16-816e-0138d71ba339",
   "metadata": {},
   "source": [
    "**3. Satisfaction Rating Analysis**"
   ]
  },
  {
   "cell_type": "code",
   "execution_count": 46,
   "id": "043ddaf5-004c-4e10-adf8-f487c96da1c3",
   "metadata": {},
   "outputs": [
    {
     "name": "stdout",
     "output_type": "stream",
     "text": [
      "Satisfaction Rating Statistics:\n"
     ]
    },
    {
     "data": {
      "text/plain": [
       "count    100.000000\n",
       "mean       3.918829\n",
       "std        0.564479\n",
       "min        3.007999\n",
       "25%        3.413431\n",
       "50%        3.872438\n",
       "75%        4.314277\n",
       "max        4.963540\n",
       "Name: Satisfaction_Rating_on_Reward, dtype: float64"
      ]
     },
     "execution_count": 46,
     "metadata": {},
     "output_type": "execute_result"
    }
   ],
   "source": [
    "# Descriptive statistics for satisfaction rating\n",
    "satisfaction_stats = df['Satisfaction_Rating_on_Reward'].describe()\n",
    "print(\"Satisfaction Rating Statistics:\")\n",
    "satisfaction_stats"
   ]
  },
  {
   "cell_type": "code",
   "execution_count": 47,
   "id": "c7331f73-25bd-4b50-bc16-2ffa1a7cf3b7",
   "metadata": {},
   "outputs": [
    {
     "data": {
      "image/png": "[encoded data removed]",
      "text/plain": [
       "<Figure size 800x600 with 1 Axes>"
      ]
     },
     "metadata": {},
     "output_type": "display_data"
    }
   ],
   "source": [
    "# Plot satisfaction rating distribution\n",
    "plt.figure(figsize=(8, 6))\n",
    "df['Satisfaction_Rating_on_Reward'].plot(kind='hist', bins=10, color='purple', edgecolor='black',)\n",
    "plt.title('Distribution of Satisfaction Ratings')\n",
    "plt.xlabel('Satisfaction Rating')\n",
    "plt.ylabel('Frequency')\n",
    "plt.tight_layout()\n",
    "plt.show()"
   ]
  },
  {
   "cell_type": "code",
   "execution_count": null,
   "id": "03f30f1b-f91c-4511-b43e-f9ac84a04047",
   "metadata": {},
   "outputs": [],
   "source": []
  },
  {
   "cell_type": "code",
   "execution_count": null,
   "id": "839e6ac5-dfbb-4728-9257-737c251a84b6",
   "metadata": {},
   "outputs": [],
   "source": []
  },
  {
   "cell_type": "markdown",
   "id": "cbe03de6-fce2-48f7-8474-6ca8ab27579a",
   "metadata": {},
   "source": [
    "**4. Redemption Frequency**"
   ]
  },
  {
   "cell_type": "code",
   "execution_count": 44,
   "id": "d52c993e-61dc-44c6-87bf-54806508ffc5",
   "metadata": {},
   "outputs": [
    {
     "name": "stdout",
     "output_type": "stream",
     "text": [
      "Redemptions by User Statistics:\n"
     ]
    },
    {
     "data": {
      "text/plain": [
       "count    100.00000\n",
       "mean       5.29000\n",
       "std        2.71656\n",
       "min        1.00000\n",
       "25%        3.00000\n",
       "50%        5.00000\n",
       "75%        8.00000\n",
       "max        9.00000\n",
       "Name: Redemptions_by_User, dtype: float64"
      ]
     },
     "execution_count": 44,
     "metadata": {},
     "output_type": "execute_result"
    }
   ],
   "source": [
    "# Descriptive statistics for redemption frequency\n",
    "redemptions_stats = df['Redemptions_by_User'].describe()\n",
    "print(\"Redemptions by User Statistics:\")\n",
    "redemptions_stats"
   ]
  },
  {
   "cell_type": "code",
   "execution_count": 45,
   "id": "6b71cfb4-14c6-420d-b257-bcd3b3164fc7",
   "metadata": {},
   "outputs": [
    {
     "data": {
      "image/png": "[encoded data removed]",
      "text/plain": [
       "<Figure size 800x600 with 1 Axes>"
      ]
     },
     "metadata": {},
     "output_type": "display_data"
    }
   ],
   "source": [
    "# Plot redemption frequency\n",
    "plt.figure(figsize=(8, 6))\n",
    "df['Redemptions_by_User'].plot(kind='hist', bins=10, color='red', edgecolor='black')\n",
    "plt.title('Distribution of Redemptions by User')\n",
    "plt.xlabel('Number of Redemptions')\n",
    "plt.ylabel('Frequency')\n",
    "plt.tight_layout()\n",
    "plt.show()"
   ]
  },
  {
   "cell_type": "code",
   "execution_count": null,
   "id": "c407695f-10a6-419f-97f2-41a842461b54",
   "metadata": {},
   "outputs": [],
   "source": []
  },
  {
   "cell_type": "code",
   "execution_count": null,
   "id": "fc15bfbc-0447-4020-82c2-116f35e6954e",
   "metadata": {},
   "outputs": [],
   "source": []
  },
  {
   "cell_type": "markdown",
   "id": "3163a1cd-cccc-40fb-83f9-6bcc78fb72b5",
   "metadata": {},
   "source": [
    "**5. Cost vs. Satisfaction Correlation**"
   ]
  },
  {
   "cell_type": "code",
   "execution_count": 43,
   "id": "53187425-aa86-45b0-82c4-6ebce65e53e6",
   "metadata": {},
   "outputs": [
    {
     "data": {
      "text/html": [
       "<div>\n",
       "<style scoped>\n",
       "    .dataframe tbody tr th:only-of-type {\n",
       "        vertical-align: middle;\n",
       "    }\n",
       "\n",
       "    .dataframe tbody tr th {\n",
       "        vertical-align: top;\n",
       "    }\n",
       "\n",
       "    .dataframe thead th {\n",
       "        text-align: right;\n",
       "    }\n",
       "</style>\n",
       "<table border=\"1\" class=\"dataframe\">\n",
       "  <thead>\n",
       "    <tr style=\"text-align: right;\">\n",
       "      <th></th>\n",
       "      <th>Cost_Per_Redemption_in_Dollars</th>\n",
       "      <th>Satisfaction_Rating_on_Reward</th>\n",
       "    </tr>\n",
       "  </thead>\n",
       "  <tbody>\n",
       "    <tr>\n",
       "      <th>Cost_Per_Redemption_in_Dollars</th>\n",
       "      <td>1.000000</td>\n",
       "      <td>-0.055561</td>\n",
       "    </tr>\n",
       "    <tr>\n",
       "      <th>Satisfaction_Rating_on_Reward</th>\n",
       "      <td>-0.055561</td>\n",
       "      <td>1.000000</td>\n",
       "    </tr>\n",
       "  </tbody>\n",
       "</table>\n",
       "</div>"
      ],
      "text/plain": [
       "                                Cost_Per_Redemption_in_Dollars  \\\n",
       "Cost_Per_Redemption_in_Dollars                        1.000000   \n",
       "Satisfaction_Rating_on_Reward                        -0.055561   \n",
       "\n",
       "                                Satisfaction_Rating_on_Reward  \n",
       "Cost_Per_Redemption_in_Dollars                      -0.055561  \n",
       "Satisfaction_Rating_on_Reward                        1.000000  "
      ]
     },
     "execution_count": 43,
     "metadata": {},
     "output_type": "execute_result"
    }
   ],
   "source": [
    "# Correlation between cost per redemption and satisfaction rating\n",
    "cost_satisfaction_corr = df[['Cost_Per_Redemption_in_Dollars', 'Satisfaction_Rating_on_Reward']].corr()\n",
    "cost_satisfaction_corr"
   ]
  },
  {
   "cell_type": "code",
   "execution_count": 40,
   "id": "505ba5f4-cd75-4d2b-a8c6-1cc6293ac0d1",
   "metadata": {},
   "outputs": [
    {
     "data": {
      "image/png": "[encoded data removed]",
      "text/plain": [
       "<Figure size 800x600 with 1 Axes>"
      ]
     },
     "metadata": {},
     "output_type": "display_data"
    }
   ],
   "source": [
    "# Scatter plot of Cost vs Satisfaction Rating\n",
    "plt.figure(figsize=(8, 6))\n",
    "plt.scatter(df['Cost_Per_Redemption_in_Dollars'], df['Satisfaction_Rating_on_Reward'], color='blue', alpha=0.5)\n",
    "plt.title('Cost vs Satisfaction Rating')\n",
    "plt.xlabel('Cost per Redemption (Dollars)')\n",
    "plt.ylabel('Satisfaction Rating')\n",
    "plt.tight_layout()\n",
    "plt.show()"
   ]
  },
  {
   "cell_type": "code",
   "execution_count": null,
   "id": "b851d67c-a363-4e1f-9da9-5370369225cd",
   "metadata": {},
   "outputs": [],
   "source": []
  },
  {
   "cell_type": "code",
   "execution_count": null,
   "id": "06ff704e-f80b-4487-ad95-1898dc784028",
   "metadata": {},
   "outputs": [],
   "source": []
  },
  {
   "cell_type": "code",
   "execution_count": null,
   "id": "406ae426-a5ed-49ca-b624-a4e58236bb55",
   "metadata": {},
   "outputs": [],
   "source": []
  },
  {
   "cell_type": "markdown",
   "id": "080e9acc-7937-4ee1-9041-e139b2cf61c1",
   "metadata": {},
   "source": [
    "# A detailed Breakdown of the insights is found in the ReadMe file Attached the repository"
   ]
  },
  {
   "cell_type": "code",
   "execution_count": null,
   "id": "f684e55b-6da0-417b-85a3-850cbc7237b3",
   "metadata": {},
   "outputs": [],
   "source": []
  },
  {
   "cell_type": "code",
   "execution_count": null,
   "id": "43961706-f5c9-4b1e-9d9b-a27896f89560",
   "metadata": {},
   "outputs": [],
   "source": []
  },
  {
   "cell_type": "code",
   "execution_count": null,
   "id": "278a1978-ca6d-4904-a56e-325f4b4ebc7f",
   "metadata": {},
   "outputs": [],
   "source": []
  },
  {
   "cell_type": "code",
   "execution_count": null,
   "id": "e61be444-86e0-4b0f-a07d-55f312c5df8d",
   "metadata": {},
   "outputs": [],
   "source": []
  },
  {
   "cell_type": "code",
   "execution_count": null,
   "id": "2278a24b-58db-448b-8dc0-445a8c00b64b",
   "metadata": {},
   "outputs": [],
   "source": []
  }
 ],
 "metadata": {
  "kernelspec": {
   "display_name": "Python 3 (ipykernel)",
   "language": "python",
   "name": "python3"
  },
  "language_info": {
   "codemirror_mode": {
    "name": "ipython",
    "version": 3
   },
   "file_extension": ".py",
   "mimetype": "text/x-python",
   "name": "python",
   "nbconvert_exporter": "python",
   "pygments_lexer": "ipython3",
   "version": "3.9.18"
  }
 },
 "nbformat": 4,
 "nbformat_minor": 5
}
